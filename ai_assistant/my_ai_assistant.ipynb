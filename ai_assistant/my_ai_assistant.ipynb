{
 "cells": [
  {
   "cell_type": "code",
   "execution_count": null,
   "metadata": {},
   "outputs": [],
   "source": [
    "from dotenv import load_dotenv\n",
    "import openai\n",
    "from openai import OpenAI\n",
    "import json\n",
    "import os\n",
    "import requests\n",
    "from pypdf import PdfReader\n",
    "import gradio as gr\n",
    "from IPython.display import Markdown, display\n",
    "from groq import Groq\n",
    "\n",
    "load_dotenv(override=True)\n",
    "\n",
    "\n",
    "from  ai_assistant import Assistant\n"
   ]
  },
  {
   "cell_type": "code",
   "execution_count": null,
   "metadata": {},
   "outputs": [],
   "source": [
    "name = os.getenv(\"MY_NAME\")\n",
    "last_name = os.getenv(\"MY_LAST_NAME\")"
   ]
  },
  {
   "cell_type": "code",
   "execution_count": null,
   "metadata": {},
   "outputs": [],
   "source": [
    "# Load the summary and resume\n",
    "with open(\"../data/summary.txt\", \"r\", encoding=\"utf-8\") as f:\n",
    "    summary = f.read()\n",
    "\n",
    "with open(\"../data/resume.md\", \"r\", encoding=\"utf-8\") as f:\n",
    "    resume = f.read()\n",
    "\n",
    "print(f\"Summary: {summary[:100]}...\")  # Print first 100 characters for brevity\n",
    "print(f\"Resume: {resume[:100]}...\")  # Print first 100 characters for brevity"
   ]
  },
  {
   "cell_type": "code",
   "execution_count": null,
   "metadata": {},
   "outputs": [],
   "source": [
    "assistant = Assistant(name, last_name, summary, resume)"
   ]
  },
  {
   "cell_type": "code",
   "execution_count": null,
   "metadata": {},
   "outputs": [],
   "source": [
    "g_history = []\n",
    "def chat(message, history):\n",
    "    messages = history + [{\"role\": \"user\", \"content\": message}]\n",
    "    g_history.append({\"role\": \"user\", \"content\": message}) \n",
    "\n",
    "    response = assistant.get_response(g_history)\n",
    "    print(response)\n",
    "\n",
    "    g_history.extend(response)\n",
    "\n",
    "    # only response without tool use messages\n",
    "    return response[-1].content"
   ]
  },
  {
   "cell_type": "code",
   "execution_count": null,
   "metadata": {},
   "outputs": [],
   "source": [
    "gr.ChatInterface(chat, type=\"messages\").launch()"
   ]
  },
  {
   "cell_type": "code",
   "execution_count": null,
   "metadata": {},
   "outputs": [],
   "source": [
    "g_history[-2]"
   ]
  },
  {
   "cell_type": "code",
   "execution_count": null,
   "metadata": {},
   "outputs": [],
   "source": []
  }
 ],
 "metadata": {
  "kernelspec": {
   "display_name": "mlops",
   "language": "python",
   "name": "python3"
  },
  "language_info": {
   "codemirror_mode": {
    "name": "ipython",
    "version": 3
   },
   "file_extension": ".py",
   "mimetype": "text/x-python",
   "name": "python",
   "nbconvert_exporter": "python",
   "pygments_lexer": "ipython3",
   "version": "3.12.3"
  }
 },
 "nbformat": 4,
 "nbformat_minor": 2
}
