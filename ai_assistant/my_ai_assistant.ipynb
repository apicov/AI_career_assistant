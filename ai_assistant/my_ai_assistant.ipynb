{
 "cells": [
  {
   "cell_type": "code",
   "execution_count": 1,
   "metadata": {},
   "outputs": [],
   "source": [
    "from dotenv import load_dotenv\n",
    "import openai\n",
    "from openai import OpenAI\n",
    "import json\n",
    "import os\n",
    "import requests\n",
    "from pypdf import PdfReader\n",
    "import gradio as gr\n",
    "from IPython.display import Markdown, display\n",
    "from groq import Groq\n",
    "\n",
    "load_dotenv(override=True)\n",
    "\n",
    "\n",
    "from  ai_assistant import Assistant\n"
   ]
  },
  {
   "cell_type": "code",
   "execution_count": 2,
   "metadata": {},
   "outputs": [],
   "source": [
    "name = os.getenv(\"MY_NAME\")\n",
    "last_name = os.getenv(\"MY_LAST_NAME\")"
   ]
  },
  {
   "cell_type": "code",
   "execution_count": 4,
   "metadata": {},
   "outputs": [
    {
     "name": "stdout",
     "output_type": "stream",
     "text": [
      "Summary: Computer Science PhD with experience in machine learning, deep learning, and embedded systems. Curre...\n",
      "Resume: # Skills\n",
      "\n",
      "**General:** Machine learning, Deep learning, Data Science, Electronics, Embedded Systems,...\n"
     ]
    }
   ],
   "source": [
    "# Load the summary and resume\n",
    "with open(\"../data/summary.txt\", \"r\", encoding=\"utf-8\") as f:\n",
    "    summary = f.read()\n",
    "\n",
    "with open(\"../data/resume.md\", \"r\", encoding=\"utf-8\") as f:\n",
    "    resume = f.read()\n",
    "\n",
    "print(f\"Summary: {summary[:100]}...\")  # Print first 100 characters for brevity\n",
    "print(f\"Resume: {resume[:100]}...\")  # Print first 100 characters for brevity"
   ]
  },
  {
   "cell_type": "code",
   "execution_count": 5,
   "metadata": {},
   "outputs": [],
   "source": [
    "assistant = Assistant(name, last_name, summary, resume)"
   ]
  },
  {
   "cell_type": "code",
   "execution_count": 6,
   "metadata": {},
   "outputs": [],
   "source": [
    "g_history = []\n",
    "def chat(message, history):\n",
    "    messages = history + [{\"role\": \"user\", \"content\": message}]\n",
    "    g_history.append({\"role\": \"user\", \"content\": message}) \n",
    "\n",
    "    response = assistant.get_response(g_history)\n",
    "    print(response)\n",
    "\n",
    "    g_history.extend(response)\n",
    "\n",
    "    # only response without tool use messages\n",
    "    return response[-1].content"
   ]
  },
  {
   "cell_type": "code",
   "execution_count": 7,
   "metadata": {},
   "outputs": [
    {
     "name": "stdout",
     "output_type": "stream",
     "text": [
      "* Running on local URL:  http://127.0.0.1:7860\n",
      "* To create a public link, set `share=True` in `launch()`.\n"
     ]
    },
    {
     "data": {
      "text/html": [
       "<div><iframe src=\"http://127.0.0.1:7860/\" width=\"100%\" height=\"500\" allow=\"autoplay; camera; microphone; clipboard-read; clipboard-write;\" frameborder=\"0\" allowfullscreen></iframe></div>"
      ],
      "text/plain": [
       "<IPython.core.display.HTML object>"
      ]
     },
     "metadata": {},
     "output_type": "display_data"
    },
    {
     "data": {
      "text/plain": []
     },
     "execution_count": 7,
     "metadata": {},
     "output_type": "execute_result"
    },
    {
     "name": "stdout",
     "output_type": "stream",
     "text": [
      "[ChatCompletionMessage(content=\"Hello. I'm here to help with any questions you might have about Antonio Pico's background or experience. Is there something specific you'd like to know about his work in machine learning, deep learning, or perhaps his projects in TinyML and LLM agents?\", refusal=None, role='assistant', annotations=None, audio=None, function_call=None, tool_calls=None)]\n"
     ]
    }
   ],
   "source": [
    "gr.ChatInterface(chat, type=\"messages\").launch()"
   ]
  }
 ],
 "metadata": {
  "kernelspec": {
   "display_name": "mlops",
   "language": "python",
   "name": "python3"
  },
  "language_info": {
   "codemirror_mode": {
    "name": "ipython",
    "version": 3
   },
   "file_extension": ".py",
   "mimetype": "text/x-python",
   "name": "python",
   "nbconvert_exporter": "python",
   "pygments_lexer": "ipython3",
   "version": "3.12.3"
  }
 },
 "nbformat": 4,
 "nbformat_minor": 2
}
