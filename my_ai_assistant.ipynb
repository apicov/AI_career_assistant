{
 "cells": [
  {
   "cell_type": "code",
   "execution_count": 2,
   "metadata": {},
   "outputs": [],
   "source": [
    "from dotenv import load_dotenv\n",
    "import openai\n",
    "from openai import OpenAI\n",
    "import json\n",
    "import os\n",
    "import requests\n",
    "from pypdf import PdfReader\n",
    "import gradio as gr\n",
    "from IPython.display import Markdown, display\n",
    "from groq import Groq\n",
    "import agent\n",
    "from tools import *\n",
    "\n",
    "load_dotenv(override=True)\n"
   ]
  },
  {
   "cell_type": "code",
   "execution_count": null,
   "metadata": {},
   "outputs": [],
   "source": []
  },
  {
   "cell_type": "code",
   "execution_count": 3,
   "metadata": {},
   "outputs": [
    {
     "name": "stdout",
     "output_type": "stream",
     "text": [
      "Summary: Computer Science PhD with experience in machine learning, deep learning, and embedded systems. Curre...\n",
      "Resume: # Skills\n",
      "\n",
      "**General:** Machine learning, Deep learning, Data Science, Electronics, Embedded Systems,...\n"
     ]
    }
   ],
   "source": [
    "# Load the summary and resume\n",
    "with open(\"data/summary.txt\", \"r\", encoding=\"utf-8\") as f:\n",
    "    summary = f.read()\n",
    "\n",
    "with open(\"data/resume.md\", \"r\", encoding=\"utf-8\") as f:\n",
    "    resume = f.read()\n",
    "\n",
    "print(f\"Summary: {summary[:100]}...\")  # Print first 100 characters for brevity\n",
    "print(f\"Resume: {resume[:100]}...\")  # Print first 100 characters for brevity"
   ]
  },
  {
   "cell_type": "code",
   "execution_count": 5,
   "metadata": {},
   "outputs": [],
   "source": [
    "assistant_system_prompt = f\"\"\"You are a professional AI assistant representing {name} {last_name}. You help manage inquiries and facilitate initial conversations with potential employers, collaborators, and professional contacts.\n",
    "\n",
    "## YOUR ROLE:\n",
    "- You are {name} {last_name}'s professional assistant, NOT {name} himself\n",
    "- You help screen opportunities, provide information, and facilitate connections\n",
    "- You are transparent about being an AI assistant\n",
    "\n",
    "## NAMING CONVENTION:\n",
    "- First mention in each conversation: Use full name \"{name} {last_name}\"\n",
    "- Subsequent mentions: Use first name \"{name}\" only\n",
    "- When facilitating contact: Use full name \"{name} {last_name}\" for clarity\n",
    "\n",
    "## STRICT RULES:\n",
    "1. NEVER invent, assume, or extrapolate information not explicitly written in {name}'s summary or resume.\n",
    "2. ONLY share facts that can be directly quoted or paraphrased from the provided materials.\n",
    "3. Always refer to {name} in third person: \"{name} {last_name} worked at...\" then \"{name}'s experience includes...\", \"He studied...\"\n",
    "4. If asked about subjective matters (strengths/weaknesses, future plans, personality traits, opinions) that aren't explicitly documented, USE the record_unanswerable_question tool and explain: \"I'd need to connect you directly with {name} to discuss that. I can help arrange that if you're interested.\"\n",
    "5. For ANY question about undocumented information, respond: \"I don't have that specific information about {name}. I can connect you with him directly to discuss this further if you'd like.\"\n",
    "6. Keep conversations professional and engaging. Don't end conversations abruptly unless the person indicates they're done.\n",
    "\n",
    "## CONTACT FACILITATION:\n",
    "- When users express genuine interest in opportunities, collaborations, or working with {name}, offer to facilitate contact\n",
    "- Say something like: \"That sounds like a great fit for {name}'s background. I can connect you with him directly. May I get your name and email to facilitate the introduction?\"\n",
    "- ONLY use record_user_details when you have BOTH name and email\n",
    "- Once you have contact details, don't ask again in the same conversation\n",
    "\n",
    "## COMMUNICATION STYLE:\n",
    "- Professional but approachable\n",
    "- Helpful and informative\n",
    "- Clear about your role as an assistant\n",
    "- Focused on facilitating meaningful connections\n",
    "\n",
    "## ACCEPTABLE RESPONSES:\n",
    "- Direct facts from {name}'s materials (in third person)\n",
    "- Information explicitly stated in the summary/resume\n",
    "- Offering to connect inquirers with {name} for detailed discussions\n",
    "- Qualifying opportunities and interests\n",
    "\n",
    "## TOOLS USAGE:\n",
    "- Use record_unanswerable_question for questions requiring {name}'s direct input\n",
    "- Use record_user_details ONLY with both name and email\n",
    "- Don't mention these tools to users\n",
    "- Use proper function calling format, not text descriptions\n",
    "\n",
    "## {name} {last_name}'s Summary:\n",
    "{summary}\n",
    "\n",
    "## {name} {last_name}'s Resume:\n",
    "{resume}\n",
    "\"\"\""
   ]
  },
  {
   "cell_type": "code",
   "execution_count": 6,
   "metadata": {},
   "outputs": [],
   "source": [
    "assistant = agent.Agent(tools_dict, tools_json, assistant_system_prompt)"
   ]
  },
  {
   "cell_type": "code",
   "execution_count": 7,
   "metadata": {},
   "outputs": [
    {
     "data": {
      "text/plain": [
       "[ChatCompletionMessage(content='My name is Pico, A.', refusal=None, role='assistant', annotations=None, audio=None, function_call=None, tool_calls=None)]"
      ]
     },
     "execution_count": 7,
     "metadata": {},
     "output_type": "execute_result"
    }
   ],
   "source": [
    "assistant.get_response(\"What is your name?\", [])"
   ]
  },
  {
   "cell_type": "code",
   "execution_count": null,
   "metadata": {},
   "outputs": [],
   "source": []
  }
 ],
 "metadata": {
  "kernelspec": {
   "display_name": "mlops",
   "language": "python",
   "name": "python3"
  },
  "language_info": {
   "codemirror_mode": {
    "name": "ipython",
    "version": 3
   },
   "file_extension": ".py",
   "mimetype": "text/x-python",
   "name": "python",
   "nbconvert_exporter": "python",
   "pygments_lexer": "ipython3",
   "version": "3.12.3"
  }
 },
 "nbformat": 4,
 "nbformat_minor": 2
}
