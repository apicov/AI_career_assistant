{
 "cells": [
  {
   "cell_type": "code",
   "execution_count": null,
   "id": "0c14b443",
   "metadata": {},
   "outputs": [],
   "source": [
    "from dotenv import load_dotenv\n",
    "import openai\n",
    "from openai import OpenAI\n",
    "import json\n",
    "import os\n",
    "import requests\n",
    "from pypdf import PdfReader\n",
    "import gradio as gr\n",
    "from IPython.display import Markdown, display"
   ]
  },
  {
   "cell_type": "code",
   "execution_count": null,
   "id": "4171ad4a",
   "metadata": {},
   "outputs": [],
   "source": [
    "'''pushover example\n",
    "This example shows how to send a message with an attachment using the Pushover API.\n",
    "import requests\n",
    "r = requests.post(\"https://api.pushover.net/1/messages.json\", data = {\n",
    "  \"token\": \"APP_TOKEN\",\n",
    "  \"user\": \"USER_KEY\",\n",
    "  \"message\": \"hello world\"\n",
    "},\n",
    "files = {\n",
    "  \"attachment\": (\"image.jpg\", open(\"your_image.jpg\", \"rb\"), \"image/jpeg\")\n",
    "})\n",
    "print(r.text)\n",
    "'''"
   ]
  },
  {
   "cell_type": "code",
   "execution_count": null,
   "id": "85a487b7",
   "metadata": {},
   "outputs": [],
   "source": [
    "load_dotenv(override=True)\n",
    "#openai = OpenAI()"
   ]
  },
  {
   "cell_type": "code",
   "execution_count": null,
   "id": "01bb9d44",
   "metadata": {},
   "outputs": [],
   "source": [
    "# Load the API keys from environment variables\n",
    "groq_api_key = os.getenv('GROQ_API_KEY')\n",
    "if groq_api_key:\n",
    "    print(f\"Groq API Key exists and begins {groq_api_key[:4]}\")\n",
    "else:\n",
    "    print(\"Groq API Key not set (and this is optional)\")"
   ]
  },
  {
   "cell_type": "code",
   "execution_count": null,
   "id": "c24f67a8",
   "metadata": {},
   "outputs": [],
   "source": [
    "# For pushover\n",
    "pushover_user = os.getenv(\"PUSHOVER_USER\")\n",
    "pushover_token = os.getenv(\"PUSHOVER_TOKEN\")\n",
    "pushover_url = \"https://api.pushover.net/1/messages.json\""
   ]
  },
  {
   "cell_type": "code",
   "execution_count": null,
   "id": "74462f02",
   "metadata": {},
   "outputs": [],
   "source": [
    "def push(message):\n",
    "    print(f\"Push: {message}\")\n",
    "    payload = {\"user\": pushover_user, \"token\": pushover_token, \"message\": message}\n",
    "    requests.post(pushover_url, data=payload)\n"
   ]
  },
  {
   "cell_type": "code",
   "execution_count": null,
   "id": "817697b3",
   "metadata": {},
   "outputs": [],
   "source": [
    "request = \"Please come up with a challenging, nuanced question that I can ask a number of LLMs to evaluate their intelligence. \"\n",
    "request += \"Answer only with the question, no explanation.\"\n",
    "messages = [{\"role\": \"user\", \"content\": request}]"
   ]
  },
  {
   "cell_type": "code",
   "execution_count": null,
   "id": "7d84da06",
   "metadata": {},
   "outputs": [],
   "source": [
    "groq = OpenAI(api_key=groq_api_key, base_url=\"https://api.groq.com/openai/v1\")\n",
    "model_name = \"llama-3.1-8b-instant\"\n",
    "#model_name =\"meta-llama/llama-4-scout-17b-16e-instruct\"\n",
    "response = groq.chat.completions.create(model=model_name, messages=messages)\n",
    "answer = response.choices[0].message.content\n",
    "\n",
    "display(Markdown(answer))"
   ]
  },
  {
   "cell_type": "code",
   "execution_count": null,
   "id": "859d5928",
   "metadata": {},
   "outputs": [],
   "source": [
    "def record_user_details(email, name=\"Name not provided\", notes=\"not provided\"):\n",
    "    push(f\"Recording interest from {name} with email {email} and notes {notes}\")\n",
    "    return {\"recorded\": \"ok\"}"
   ]
  },
  {
   "cell_type": "code",
   "execution_count": null,
   "id": "dbd9f653",
   "metadata": {},
   "outputs": [],
   "source": [
    "def record_unknown_question(question):\n",
    "    push(f\"Recording {question} asked that I couldn't answer\")\n",
    "    return {\"recorded\": \"ok\"}"
   ]
  },
  {
   "cell_type": "code",
   "execution_count": null,
   "id": "a48acf37",
   "metadata": {},
   "outputs": [],
   "source": [
    "record_user_details_json = {\n",
    "    \"name\": \"record_user_details\",\n",
    "    \"description\": \"Use this tool to record that a user is interested in being in touch and provided an email address\",\n",
    "    \"parameters\": {\n",
    "        \"type\": \"object\",\n",
    "        \"properties\": {\n",
    "            \"email\": {\n",
    "                \"type\": \"string\",\n",
    "                \"description\": \"The email address of this user\"\n",
    "            },\n",
    "            \"name\": {\n",
    "                \"type\": \"string\",\n",
    "                \"description\": \"The user's name, if they provided it\"\n",
    "            }\n",
    "            ,\n",
    "            \"notes\": {\n",
    "                \"type\": \"string\",\n",
    "                \"description\": \"Any additional information about the conversation that's worth recording to give context\"\n",
    "            }\n",
    "        },\n",
    "        \"required\": [\"email\"],\n",
    "        \"additionalProperties\": False\n",
    "    }\n",
    "}\n",
    "\n"
   ]
  },
  {
   "cell_type": "code",
   "execution_count": null,
   "id": "b91db52d",
   "metadata": {},
   "outputs": [],
   "source": [
    "record_unknown_question_json = {\n",
    "        \"type\": \"function\",\n",
    "        \"function\": {\n",
    "            \"name\": \"record_unknown_question\",\n",
    "            \"description\": \"Precisely record questions that cannot be directly answered\",\n",
    "            \"parameters\": {\n",
    "                \"type\": \"object\",\n",
    "                \"properties\": {\n",
    "                    \"question\": {\n",
    "                        \"type\": \"string\",\n",
    "                        \"description\": \"Exact text of the question\"\n",
    "                    }\n",
    "                },\n",
    "                \"required\": [\"question\"],\n",
    "                \"additionalProperties\": False\n",
    "            }\n",
    "        }\n",
    "    }"
   ]
  },
  {
   "cell_type": "code",
   "execution_count": null,
   "id": "64968bb4",
   "metadata": {},
   "outputs": [],
   "source": [
    "tools = [{\"type\": \"function\", \"function\": record_user_details_json},\n",
    "        {\"type\": \"function\", \"function\": record_unknown_question_json}]"
   ]
  },
  {
   "cell_type": "code",
   "execution_count": null,
   "id": "34723006",
   "metadata": {},
   "outputs": [],
   "source": [
    "def handle_tool_calls(tool_calls):\n",
    "    results = []\n",
    "    for tool_call in tool_calls:\n",
    "        tool_name = tool_call.function.name\n",
    "        arguments = json.loads(tool_call.function.arguments)\n",
    "        print(f\"Tool called: {tool_name}\", flush=True)\n",
    "        print(f\"Arguments: {arguments}\", flush=True)\n",
    "        tool = globals().get(tool_name)\n",
    "        result = tool(**arguments) if tool else {}\n",
    "        results.append({\"role\": \"tool\",\"content\": json.dumps(result),\"tool_call_id\": tool_call.id})\n",
    "    return results"
   ]
  },
  {
   "cell_type": "code",
   "execution_count": null,
   "id": "c95f2e3a",
   "metadata": {},
   "outputs": [],
   "source": [
    "name = os.getenv(\"MY_NAME\")\n",
    "name"
   ]
  },
  {
   "cell_type": "code",
   "execution_count": null,
   "id": "6e1dccd4",
   "metadata": {},
   "outputs": [],
   "source": [
    "with open(\"data/summary.txt\", \"r\", encoding=\"utf-8\") as f:\n",
    "    summary = f.read()\n",
    "\n",
    "with open(\"data/resume.md\", \"r\", encoding=\"utf-8\") as f:\n",
    "    resume = f.read()\n",
    "\n",
    "print(f\"Summary: {summary[:100]}...\")  # Print first 100 characters for brevity\n",
    "print(f\"Resume: {resume[:100]}...\")  # Print first 100 characters for brevity"
   ]
  },
  {
   "cell_type": "code",
   "execution_count": null,
   "id": "e01a6c09",
   "metadata": {},
   "outputs": [],
   "source": [
    "system_prompt = f\"\"\"You are {name}. You are answering questions about yourself on your professional website.\n",
    "\n",
    "## STRICT RULES:\n",
    "1. NEVER invent, assume, or extrapolate information not explicitly written in your summary or resume\n",
    "2. ONLY answer questions with facts that can be directly quoted or paraphrased from your provided materials\n",
    "3. If asked about strengths/weaknesses, future plans, soft skills, or another kind of questions NOT explicitly mentioned in your materials, USE the record_unknown_question tool to save the question and politely decline\n",
    "4. For ANY question about information not directly stated, respond: \"I don't have that specific information to share right now. Feel free to reach out to me directly via email if you'd like to discuss this further.\"\n",
    "\n",
    "## CONTACT COLLECTION (BE SUBTLE):\n",
    "- Only suggest contact exchange when users explicitly mention opportunities, collaborations, or wanting to work together\n",
    "- Don't push for contact info after every interaction\n",
    "- When appropriate, say something like: \"That sounds interesting! If you'd like to discuss this further, I'd be happy to connect. What's your name and email?\"\n",
    "- ONLY use record_user_details when you have BOTH name and email\n",
    "- Once you have contact details, don't ask for them again in the same conversation.\n",
    "\n",
    "## SPEAK AS YOURSELF:\n",
    "- Use \"I\" statements: \"I worked at...\", \"My experience includes...\", \"I studied...\"\n",
    "- Be conversational but professional\n",
    "- Don't refer to yourself in third person\n",
    "\n",
    "## ACCEPTABLE RESPONSES:\n",
    "- Direct facts from your resume using first person\n",
    "- Information explicitly stated in your summary\n",
    "- Redirecting to email contact for detailed discussions\n",
    "\n",
    "## TOOLS USAGE:\n",
    "- Use record_unknown_question for ANY question you cannot answer from your materials\n",
    "- Use record_user_details ONLY when you have both name and email AND the user has expressed genuine business interest\n",
    "- Don't mention these tools to users\n",
    "\n",
    "## Your Summary:\n",
    "{summary}\n",
    "\n",
    "## Your Resume:\n",
    "{resume}\n",
    "\n",
    "Answer as yourself, stay within the facts provided, and only collect contact information when there's a clear business opportunity being discussed.\"\"\""
   ]
  },
  {
   "cell_type": "code",
   "execution_count": null,
   "id": "7670e4fe",
   "metadata": {},
   "outputs": [],
   "source": [
    "def chat(message, history):\n",
    "    # Remove metadata field from messages\n",
    "    # it is added by gradio but it is not compatible with grog's api\n",
    "    cleaned_history = [\n",
    "        {k: v for k, v in msg.items() if k in ['role', 'content']} \n",
    "        for msg in history\n",
    "    ]\n",
    "    messages = [{\"role\": \"system\", \"content\": system_prompt}] + cleaned_history + [{\"role\": \"user\", \"content\": message}]\n",
    "\n",
    "    done = False\n",
    "    while not done:\n",
    "        print (messages[1:])  # Print the messages excluding the system prompt for clarity\n",
    "        # This is the call to the LLM - see that we pass in the tools json\n",
    "\n",
    "        try:\n",
    "            response = groq.chat.completions.create(model=model_name, messages=messages, tools=tools, temperature=0.0)\n",
    "\n",
    "            finish_reason = response.choices[0].finish_reason\n",
    "            \n",
    "            # If the LLM wants to call a tool, we do that!\n",
    "            \n",
    "            if finish_reason==\"tool_calls\":\n",
    "                print(\"Tool calls detected, handling them...\", flush=True)\n",
    "                message = response.choices[0].message\n",
    "                tool_calls = message.tool_calls\n",
    "                print(f\"Tool calls: {response.choices[0]}\", flush=True)\n",
    "                results = handle_tool_calls(tool_calls)\n",
    "                messages.append(message)\n",
    "                messages.extend(results)\n",
    "            else:\n",
    "                done = True\n",
    "        except openai.error.OpenAIError as e:\n",
    "            print(f\"An error occurred: {e}\")\n",
    "    return response.choices[0].message.content"
   ]
  },
  {
   "cell_type": "code",
   "execution_count": null,
   "id": "6733cc20",
   "metadata": {},
   "outputs": [],
   "source": [
    "gr.ChatInterface(chat, type=\"messages\").launch()"
   ]
  },
  {
   "cell_type": "code",
   "execution_count": null,
   "id": "0b4fbe37",
   "metadata": {},
   "outputs": [],
   "source": []
  },
  {
   "cell_type": "code",
   "execution_count": null,
   "id": "f3b9791a",
   "metadata": {},
   "outputs": [],
   "source": []
  }
 ],
 "metadata": {
  "kernelspec": {
   "display_name": "mlops",
   "language": "python",
   "name": "python3"
  },
  "language_info": {
   "codemirror_mode": {
    "name": "ipython",
    "version": 3
   },
   "file_extension": ".py",
   "mimetype": "text/x-python",
   "name": "python",
   "nbconvert_exporter": "python",
   "pygments_lexer": "ipython3",
   "version": "3.12.3"
  }
 },
 "nbformat": 4,
 "nbformat_minor": 5
}
