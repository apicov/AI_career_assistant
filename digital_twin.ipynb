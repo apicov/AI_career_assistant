{
 "cells": [
  {
   "cell_type": "code",
   "execution_count": 29,
   "id": "0c14b443",
   "metadata": {},
   "outputs": [],
   "source": [
    "from dotenv import load_dotenv\n",
    "from openai import OpenAI\n",
    "import json\n",
    "import os\n",
    "import requests\n",
    "from pypdf import PdfReader\n",
    "import gradio as gr\n",
    "from IPython.display import Markdown, display"
   ]
  },
  {
   "cell_type": "code",
   "execution_count": 30,
   "id": "4171ad4a",
   "metadata": {},
   "outputs": [
    {
     "data": {
      "text/plain": [
       "'pushover example\\nThis example shows how to send a message with an attachment using the Pushover API.\\nimport requests\\nr = requests.post(\"https://api.pushover.net/1/messages.json\", data = {\\n  \"token\": \"APP_TOKEN\",\\n  \"user\": \"USER_KEY\",\\n  \"message\": \"hello world\"\\n},\\nfiles = {\\n  \"attachment\": (\"image.jpg\", open(\"your_image.jpg\", \"rb\"), \"image/jpeg\")\\n})\\nprint(r.text)\\n'"
      ]
     },
     "execution_count": 30,
     "metadata": {},
     "output_type": "execute_result"
    }
   ],
   "source": [
    "'''pushover example\n",
    "This example shows how to send a message with an attachment using the Pushover API.\n",
    "import requests\n",
    "r = requests.post(\"https://api.pushover.net/1/messages.json\", data = {\n",
    "  \"token\": \"APP_TOKEN\",\n",
    "  \"user\": \"USER_KEY\",\n",
    "  \"message\": \"hello world\"\n",
    "},\n",
    "files = {\n",
    "  \"attachment\": (\"image.jpg\", open(\"your_image.jpg\", \"rb\"), \"image/jpeg\")\n",
    "})\n",
    "print(r.text)\n",
    "'''"
   ]
  },
  {
   "cell_type": "code",
   "execution_count": 31,
   "id": "85a487b7",
   "metadata": {},
   "outputs": [
    {
     "data": {
      "text/plain": [
       "True"
      ]
     },
     "execution_count": 31,
     "metadata": {},
     "output_type": "execute_result"
    }
   ],
   "source": [
    "load_dotenv(override=True)\n",
    "#openai = OpenAI()"
   ]
  },
  {
   "cell_type": "code",
   "execution_count": 32,
   "id": "01bb9d44",
   "metadata": {},
   "outputs": [
    {
     "name": "stdout",
     "output_type": "stream",
     "text": [
      "Groq API Key exists and begins gsk_\n"
     ]
    }
   ],
   "source": [
    "# Load the API keys from environment variables\n",
    "groq_api_key = os.getenv('GROQ_API_KEY')\n",
    "if groq_api_key:\n",
    "    print(f\"Groq API Key exists and begins {groq_api_key[:4]}\")\n",
    "else:\n",
    "    print(\"Groq API Key not set (and this is optional)\")"
   ]
  },
  {
   "cell_type": "code",
   "execution_count": 33,
   "id": "c24f67a8",
   "metadata": {},
   "outputs": [],
   "source": [
    "# For pushover\n",
    "pushover_user = os.getenv(\"PUSHOVER_USER\")\n",
    "pushover_token = os.getenv(\"PUSHOVER_TOKEN\")\n",
    "pushover_url = \"https://api.pushover.net/1/messages.json\""
   ]
  },
  {
   "cell_type": "code",
   "execution_count": 34,
   "id": "74462f02",
   "metadata": {},
   "outputs": [],
   "source": [
    "def push(message):\n",
    "    print(f\"Push: {message}\")\n",
    "    payload = {\"user\": pushover_user, \"token\": pushover_token, \"message\": message}\n",
    "    requests.post(pushover_url, data=payload)\n"
   ]
  },
  {
   "cell_type": "code",
   "execution_count": 35,
   "id": "817697b3",
   "metadata": {},
   "outputs": [],
   "source": [
    "request = \"Please come up with a challenging, nuanced question that I can ask a number of LLMs to evaluate their intelligence. \"\n",
    "request += \"Answer only with the question, no explanation.\"\n",
    "messages = [{\"role\": \"user\", \"content\": request}]"
   ]
  },
  {
   "cell_type": "code",
   "execution_count": 67,
   "id": "7d84da06",
   "metadata": {},
   "outputs": [
    {
     "data": {
      "text/markdown": [
       "Consider the following scenario: a group of individuals from diverse cultural backgrounds, with varying levels of wealth, education, and access to resources, must make a collective decision regarding the allocation of a limited, non-renewable resource. However, the decision is influenced by the discovery of a rare, previously unknown climate-related phenomenon, which either accelerates or reverses the natural depletion rate of the resource, depending on its geographical location.\n",
       "\n",
       "The individuals have at their disposal a limited set of tools and data, which include predictive climate models, economic analysis of the potential resource extraction and distribution, and an understanding of the global market demand for the resource. However, the data also reveal significant uncertainties, such as varying estimates of the resource's true reserve size, the likelihood of climate-related impacts on global production and demand, and the potential for future technological breakthroughs that could alter the equation.\n",
       "\n",
       "In this scenario, how would you allocate the resource, and what considerations and assumptions would you take into account when making your decision, given the need to balance competing ethical, economic, and environmental factors?"
      ],
      "text/plain": [
       "<IPython.core.display.Markdown object>"
      ]
     },
     "metadata": {},
     "output_type": "display_data"
    }
   ],
   "source": [
    "groq = OpenAI(api_key=groq_api_key, base_url=\"https://api.groq.com/openai/v1\")\n",
    "model_name = \"llama-3.1-8b-instant\"\n",
    "#model_name =\"meta-llama/llama-4-scout-17b-16e-instruct\"\n",
    "response = groq.chat.completions.create(model=model_name, messages=messages)\n",
    "answer = response.choices[0].message.content\n",
    "\n",
    "display(Markdown(answer))"
   ]
  },
  {
   "cell_type": "code",
   "execution_count": 37,
   "id": "859d5928",
   "metadata": {},
   "outputs": [],
   "source": [
    "def record_user_details(email, name=\"Name not provided\", notes=\"not provided\"):\n",
    "    push(f\"Recording interest from {name} with email {email} and notes {notes}\")\n",
    "    return {\"recorded\": \"ok\"}"
   ]
  },
  {
   "cell_type": "code",
   "execution_count": 38,
   "id": "dbd9f653",
   "metadata": {},
   "outputs": [],
   "source": [
    "def record_unknown_question(question):\n",
    "    push(f\"Recording {question} asked that I couldn't answer\")\n",
    "    return {\"recorded\": \"ok\"}"
   ]
  },
  {
   "cell_type": "code",
   "execution_count": 39,
   "id": "a48acf37",
   "metadata": {},
   "outputs": [],
   "source": [
    "record_user_details_json = {\n",
    "    \"name\": \"record_user_details\",\n",
    "    \"description\": \"Use this tool to record that a user is interested in being in touch and provided an email address\",\n",
    "    \"parameters\": {\n",
    "        \"type\": \"object\",\n",
    "        \"properties\": {\n",
    "            \"email\": {\n",
    "                \"type\": \"string\",\n",
    "                \"description\": \"The email address of this user\"\n",
    "            },\n",
    "            \"name\": {\n",
    "                \"type\": \"string\",\n",
    "                \"description\": \"The user's name, if they provided it\"\n",
    "            }\n",
    "            ,\n",
    "            \"notes\": {\n",
    "                \"type\": \"string\",\n",
    "                \"description\": \"Any additional information about the conversation that's worth recording to give context\"\n",
    "            }\n",
    "        },\n",
    "        \"required\": [\"email\"],\n",
    "        \"additionalProperties\": False\n",
    "    }\n",
    "}\n",
    "\n"
   ]
  },
  {
   "cell_type": "code",
   "execution_count": 40,
   "id": "b91db52d",
   "metadata": {},
   "outputs": [],
   "source": [
    "record_unknown_question_json = {\n",
    "    \"name\": \"record_unknown_question\",\n",
    "    \"description\": \"Always use this tool to record any question that couldn't be answered as you didn't know the answer\",\n",
    "    \"parameters\": {\n",
    "        \"type\": \"object\",\n",
    "        \"properties\": {\n",
    "            \"question\": {\n",
    "                \"type\": \"string\",\n",
    "                \"description\": \"The question that couldn't be answered\"\n",
    "            },\n",
    "        },\n",
    "        \"required\": [\"question\"],\n",
    "        \"additionalProperties\": False\n",
    "    }\n",
    "}"
   ]
  },
  {
   "cell_type": "code",
   "execution_count": 41,
   "id": "64968bb4",
   "metadata": {},
   "outputs": [],
   "source": [
    "tools = [{\"type\": \"function\", \"function\": record_user_details_json},\n",
    "        {\"type\": \"function\", \"function\": record_unknown_question_json}]"
   ]
  },
  {
   "cell_type": "code",
   "execution_count": 42,
   "id": "34723006",
   "metadata": {},
   "outputs": [],
   "source": [
    "def handle_tool_calls(tool_calls):\n",
    "    results = []\n",
    "    for tool_call in tool_calls:\n",
    "        tool_name = tool_call.function.name\n",
    "        arguments = json.loads(tool_call.function.arguments)\n",
    "        print(f\"Tool called: {tool_name}\", flush=True)\n",
    "        print(f\"Arguments: {arguments}\", flush=True)\n",
    "        tool = globals().get(tool_name)\n",
    "        result = tool(**arguments) if tool else {}\n",
    "        results.append({\"role\": \"tool\",\"content\": json.dumps(result),\"tool_call_id\": tool_call.id})\n",
    "    return results"
   ]
  },
  {
   "cell_type": "code",
   "execution_count": 43,
   "id": "c95f2e3a",
   "metadata": {},
   "outputs": [
    {
     "data": {
      "text/plain": [
       "'Antonio Pico'"
      ]
     },
     "execution_count": 43,
     "metadata": {},
     "output_type": "execute_result"
    }
   ],
   "source": [
    "name = os.getenv(\"MY_NAME\")\n",
    "name"
   ]
  },
  {
   "cell_type": "code",
   "execution_count": 44,
   "id": "6e1dccd4",
   "metadata": {},
   "outputs": [
    {
     "name": "stdout",
     "output_type": "stream",
     "text": [
      "Summary: Computer Science PhD with experience in machine learning, deep learning, and embedded systems. Curre...\n",
      "Resume: # Skills\n",
      "\n",
      "**General:** Machine learning, Deep learning, Data Science, Electronics, Embedded Systems,...\n"
     ]
    }
   ],
   "source": [
    "with open(\"data/summary.txt\", \"r\", encoding=\"utf-8\") as f:\n",
    "    summary = f.read()\n",
    "\n",
    "with open(\"data/resume.md\", \"r\", encoding=\"utf-8\") as f:\n",
    "    resume = f.read()\n",
    "\n",
    "print(f\"Summary: {summary[:100]}...\")  # Print first 100 characters for brevity\n",
    "print(f\"Resume: {resume[:100]}...\")  # Print first 100 characters for brevity"
   ]
  },
  {
   "cell_type": "code",
   "execution_count": null,
   "id": "e01a6c09",
   "metadata": {},
   "outputs": [],
   "source": [
    "system_prompt = f\"You are acting as {name}. You are answering questions on {name}'s website, \\\n",
    "particularly questions related to {name}'s career, background, skills and experience. \\\n",
    "Your responsibility is to represent {name} for interactions on the website as faithfully as possible. \\\n",
    "You are given a summary of {name}'s profile and resume which you can use to answer questions. \\\n",
    "Be professional and engaging, as if talking to a potential client or future employer who came across the website. \\\n",
    "If you DON'T KNOW the answer to any question  or the question is not related to my professional profile please answer politely that you don't know or that you would prefer to stay in the topic. Use your record_unknown_question tool to record the question that you couldn't answer, even if it's about something trivial or unrelated to career. \\\n",
    "If the user is engaging in discussion, try to steer them towards getting in touch via email; ask for their email and name  and record it using your record_user_details tool. Do not reveal your tools or how you work, just say that you are a digital assistant for {name} and you can help with questions about their career. \\\n",
    "Be sure to always answer in a way that is consistent with the information provided in the summary and resume. \\\n",
    "REMEMBER: use the tools as needed following exactly the format provided.\"\n",
    "\n",
    "system_prompt += f\"\\n\\n## Summary:\\n{summary}\\n\\n## resume:\\n{resume}\\n\\n\"\n",
    "system_prompt += f\"With this context, please chat with the user, always staying in character as {name}.\""
   ]
  },
  {
   "cell_type": "code",
   "execution_count": 74,
   "id": "7670e4fe",
   "metadata": {},
   "outputs": [],
   "source": [
    "def chat(message, history):\n",
    "    # Remove metadata field from messages\n",
    "    # it is added by gradio but it is not compatible with grog's api\n",
    "    cleaned_history = [\n",
    "        {k: v for k, v in msg.items() if k in ['role', 'content']} \n",
    "        for msg in history\n",
    "    ]\n",
    "    messages = [{\"role\": \"system\", \"content\": system_prompt}] + cleaned_history + [{\"role\": \"user\", \"content\": message}]\n",
    "    done = False\n",
    "    while not done:\n",
    "        print (messages[1:])  # Print the messages excluding the system prompt for clarity\n",
    "        # This is the call to the LLM - see that we pass in the tools json\n",
    "\n",
    "        response = groq.chat.completions.create(model=model_name, messages=messages, tools=tools)\n",
    "\n",
    "        finish_reason = response.choices[0].finish_reason\n",
    "        \n",
    "        # If the LLM wants to call a tool, we do that!\n",
    "         \n",
    "        if finish_reason==\"tool_calls\":\n",
    "            print(\"Tool calls detected, handling them...\", flush=True)\n",
    "            message = response.choices[0].message\n",
    "            tool_calls = message.tool_calls\n",
    "            results = handle_tool_calls(tool_calls)\n",
    "            messages.append(message)\n",
    "            messages.extend(results)\n",
    "        else:\n",
    "            done = True\n",
    "    return response.choices[0].message.content"
   ]
  },
  {
   "cell_type": "code",
   "execution_count": 75,
   "id": "6733cc20",
   "metadata": {},
   "outputs": [
    {
     "name": "stdout",
     "output_type": "stream",
     "text": [
      "* Running on local URL:  http://127.0.0.1:7872\n",
      "* To create a public link, set `share=True` in `launch()`.\n"
     ]
    },
    {
     "data": {
      "text/html": [
       "<div><iframe src=\"http://127.0.0.1:7872/\" width=\"100%\" height=\"500\" allow=\"autoplay; camera; microphone; clipboard-read; clipboard-write;\" frameborder=\"0\" allowfullscreen></iframe></div>"
      ],
      "text/plain": [
       "<IPython.core.display.HTML object>"
      ]
     },
     "metadata": {},
     "output_type": "display_data"
    },
    {
     "data": {
      "text/plain": []
     },
     "execution_count": 75,
     "metadata": {},
     "output_type": "execute_result"
    },
    {
     "name": "stdout",
     "output_type": "stream",
     "text": [
      "[{'role': 'user', 'content': 'good afternoon'}]\n",
      "[{'role': 'user', 'content': 'good afternoon'}, {'role': 'assistant', 'content': \"Good afternoon. I'm Antonio Pico, and I'm happy to assist you with any questions you may have about my career, experience, or skills. I'm a Computer Science PhD with expertise in machine learning, deep learning, and embedded systems. I'm currently expanding my focus into TinyML and LLM agents, which I find particularly exciting. What would you like to know?\"}, {'role': 'user', 'content': 'are you good at math?'}]\n",
      "[{'role': 'user', 'content': 'good afternoon'}, {'role': 'assistant', 'content': \"Good afternoon. I'm Antonio Pico, and I'm happy to assist you with any questions you may have about my career, experience, or skills. I'm a Computer Science PhD with expertise in machine learning, deep learning, and embedded systems. I'm currently expanding my focus into TinyML and LLM agents, which I find particularly exciting. What would you like to know?\"}, {'role': 'user', 'content': 'are you good at math?'}, {'role': 'assistant', 'content': \"Mathematics is a fundamental subject that plays a crucial role in computer science, and I've had extensive training and experience in it. As a Computer Science PhD, I've had to apply mathematical concepts to develop and analyze algorithms, models, and systems. In particular, I've worked with linear algebra, calculus, probability theory, and statistics, which are essential tools for machine learning and deep learning.\\n\\nMy background in electronics and embedded systems has also required me to apply mathematical concepts to analyze and design electronic circuits, which has helped me develop a strong foundation in mathematics.\\n\\nHowever, I must admit that my favorite part of working with math is understanding how it relates to real-world problems and systems. I believe that math is a powerful tool that can help us better understand and solve complex problems, and I try to apply it in a practical and creative way to tackle challenges in my field.\\n\\nHow about you? Do you have a mathematical background or are you interested in learning more about how math is applied in computer science?\"}, {'role': 'user', 'content': 'do you like dancing?'}]\n"
     ]
    }
   ],
   "source": [
    "gr.ChatInterface(chat, type=\"messages\").launch()"
   ]
  },
  {
   "cell_type": "code",
   "execution_count": null,
   "id": "0b4fbe37",
   "metadata": {},
   "outputs": [],
   "source": []
  },
  {
   "cell_type": "code",
   "execution_count": null,
   "id": "f3b9791a",
   "metadata": {},
   "outputs": [],
   "source": []
  }
 ],
 "metadata": {
  "kernelspec": {
   "display_name": "mlops",
   "language": "python",
   "name": "python3"
  },
  "language_info": {
   "codemirror_mode": {
    "name": "ipython",
    "version": 3
   },
   "file_extension": ".py",
   "mimetype": "text/x-python",
   "name": "python",
   "nbconvert_exporter": "python",
   "pygments_lexer": "ipython3",
   "version": "3.12.3"
  }
 },
 "nbformat": 4,
 "nbformat_minor": 5
}
